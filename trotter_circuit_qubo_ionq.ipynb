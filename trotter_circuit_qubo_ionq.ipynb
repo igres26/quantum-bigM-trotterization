{
 "cells": [
  {
   "cell_type": "code",
   "execution_count": null,
   "id": "d5484681",
   "metadata": {
    "ExecuteTime": {
     "end_time": "2023-07-19T11:37:24.194088Z",
     "start_time": "2023-07-19T11:37:22.838069Z"
    }
   },
   "outputs": [],
   "source": [
    "from qibo import gates, hamiltonians, set_backend\n",
    "from qibo.models import Circuit\n",
    "import numpy as np\n",
    "import scipy as sp\n",
    "import matplotlib.pyplot as plt\n",
    "import json\n",
    "from sympy.parsing.sympy_parser import parse_expr, standard_transformations, implicit_multiplication_application"
   ]
  },
  {
   "cell_type": "code",
   "execution_count": null,
   "id": "de036fe6",
   "metadata": {
    "ExecuteTime": {
     "end_time": "2023-07-19T11:37:24.200445Z",
     "start_time": "2023-07-19T11:37:24.195721Z"
    }
   },
   "outputs": [],
   "source": [
    "from functions import *\n",
    "from trotterize_adiabatic import *"
   ]
  },
  {
   "cell_type": "code",
   "execution_count": null,
   "id": "031392cd",
   "metadata": {
    "ExecuteTime": {
     "end_time": "2023-07-19T11:37:24.207064Z",
     "start_time": "2023-07-19T11:37:24.203785Z"
    },
    "scrolled": false
   },
   "outputs": [],
   "source": [
    "# Small Hamiltonians are more efficiently simulated by the \"numpy\" backend.\n",
    "# More costly simulations can be run by the \"qibojit\" backend.\n",
    "\n",
    "set_backend('numpy')"
   ]
  },
  {
   "cell_type": "code",
   "execution_count": null,
   "id": "0a1dda97",
   "metadata": {
    "ExecuteTime": {
     "end_time": "2023-07-19T11:37:24.211795Z",
     "start_time": "2023-07-19T11:37:24.208908Z"
    }
   },
   "outputs": [],
   "source": [
    "# Setup for the toy/illustrative instances to run.\n",
    "\n",
    "folders = ['PO_sp500_part3_ra10_mult2']\n",
    "\n",
    "instances = [1, 2, 4, 5, 11, 12, 13, 16, 20, 21]\n",
    "\n",
    "qubits = [6]\n",
    "\n",
    "types = ['Msdp', 'Ml1']"
   ]
  },
  {
   "cell_type": "code",
   "execution_count": null,
   "id": "136b87f6",
   "metadata": {
    "ExecuteTime": {
     "end_time": "2023-07-19T11:37:24.253532Z",
     "start_time": "2023-07-19T11:37:24.213657Z"
    }
   },
   "outputs": [],
   "source": [
    "# Parameters of the simulation.\n",
    "\n",
    "nqubits = qubits[0]\n",
    "prob = 0\n",
    "folder = 'data/'+folders[prob]\n",
    "ins = 9\n",
    "\n",
    "x = symbols(\" \".join((f\"x{i}\" for i in range(0, nqubits))))\n",
    "\n",
    "dict_x = {str(xx):xx for xx in x}\n",
    "subs = substitutions(x, basis='x')"
   ]
  },
  {
   "cell_type": "code",
   "execution_count": null,
   "id": "6a989d32",
   "metadata": {
    "ExecuteTime": {
     "end_time": "2023-07-19T11:37:24.300981Z",
     "start_time": "2023-07-19T11:37:24.255406Z"
    }
   },
   "outputs": [],
   "source": [
    "# Read the constrained problem instances, and their constraints in order to \n",
    "# get the minimum and maximum value of the objective function.\n",
    "\n",
    "files_cons = get_filenames(folder, 'constrained', nqubits)\n",
    "ham_cons = get_sym_obj(files_cons[instances[ins]], dict_x)\n",
    "constraint = read_constraint(files_cons[instances[ins]], dict_x)\n",
    "\n",
    "subspace = get_subspace(nqubits, x, constraint)\n",
    "m, s_max, M, s_min = get_max_energy(subspace, ham_cons, nqubits, x)"
   ]
  },
  {
   "cell_type": "code",
   "execution_count": null,
   "id": "d0e33306",
   "metadata": {
    "ExecuteTime": {
     "end_time": "2023-07-19T11:37:24.307546Z",
     "start_time": "2023-07-19T11:37:24.302913Z"
    }
   },
   "outputs": [],
   "source": [
    "# Aggregate all filenames of th echosen instances for both reformulations.\n",
    "\n",
    "files = []\n",
    "\n",
    "for typeM in types:\n",
    "    files.append(get_filenames(folder, typeM, nqubits))\n",
    "\n",
    "# The solutions of the different generated instances are collected as well.\n",
    "solutions = get_filenames(folder, 'solution', nqubits)\n",
    "sols = []\n",
    "sol_bins = []\n",
    "sol, sol_bin = get_solution(solutions[instances[ins]], nqubits)\n",
    "sols.append(sol)\n",
    "sol_bins.append(sol_bin)"
   ]
  },
  {
   "cell_type": "code",
   "execution_count": null,
   "id": "b82bccad",
   "metadata": {
    "ExecuteTime": {
     "end_time": "2023-07-19T11:37:26.081848Z",
     "start_time": "2023-07-19T11:37:24.309078Z"
    }
   },
   "outputs": [],
   "source": [
    "# Create symbolix expressions from the problem instances and compile\n",
    "# the Hamiltonians needed for adiabatic evolution.\n",
    "\n",
    "hamils = []\n",
    "\n",
    "for t in range(len(types)):\n",
    "    sym_obj = get_sym_obj(files[t][instances[ins]], dict_x)\n",
    "    ham = simplify(sym_obj.subs(subs))\n",
    "    max_eig, min_eig = get_maxmin_eigenvalues(ham)\n",
    "    ham = simplify((ham-min_eig)/(max_eig-min_eig))\n",
    "    hamils.append(ham)"
   ]
  },
  {
   "cell_type": "code",
   "execution_count": null,
   "id": "31acd4cb",
   "metadata": {
    "ExecuteTime": {
     "end_time": "2023-07-19T11:37:26.088980Z",
     "start_time": "2023-07-19T11:37:26.086578Z"
    }
   },
   "outputs": [],
   "source": [
    "# Parameters used in the adiabatic evolution and Trotterization.\n",
    "# These parameters will determine the number of two-qubit gates of the circuit.\n",
    "\n",
    "T = 100\n",
    "dt = 10\n",
    "shots = 1000"
   ]
  },
  {
   "cell_type": "code",
   "execution_count": null,
   "id": "e92e34c1",
   "metadata": {
    "ExecuteTime": {
     "end_time": "2023-07-19T11:37:26.110252Z",
     "start_time": "2023-07-19T11:37:26.091567Z"
    }
   },
   "outputs": [],
   "source": [
    "# Build a Trotterized circuit for the adiabatic evolution of the M_l1 reformulation\n",
    "\n",
    "ham_l1 = hamils[1]\n",
    "qubo_l1 = Trotterize(nqubits, ham_l1, order=1)\n",
    "c = qubo_l1.build_trotter_circuit(T, dt)"
   ]
  },
  {
   "cell_type": "code",
   "execution_count": null,
   "id": "073c9665",
   "metadata": {
    "ExecuteTime": {
     "end_time": "2023-07-19T11:37:26.136857Z",
     "start_time": "2023-07-19T11:37:26.111782Z"
    }
   },
   "outputs": [],
   "source": [
    "# Execution of the Trotterized circuit\n",
    "\n",
    "initial_state = np.zeros(2**nqubits)\n",
    "initial_state[0] = 1\n",
    "result_q = c(initial_state=initial_state).state()\n",
    "probs_q = c(initial_state=initial_state, nshots = shots)"
   ]
  },
  {
   "cell_type": "code",
   "execution_count": null,
   "id": "fc66bd9d",
   "metadata": {
    "ExecuteTime": {
     "end_time": "2023-07-19T11:37:26.142029Z",
     "start_time": "2023-07-19T11:37:26.138704Z"
    }
   },
   "outputs": [],
   "source": [
    "print(f'Most probable state {np.abs(result_q).argmax()} with p = {(np.abs(result_q)**2).max()} \\n')\n",
    "print(f'Solution of the problem: {sol}')\n",
    "print()\n",
    "print(c.summary())"
   ]
  },
  {
   "cell_type": "code",
   "execution_count": null,
   "id": "7ee3c6dd",
   "metadata": {
    "ExecuteTime": {
     "end_time": "2023-07-19T11:37:26.152193Z",
     "start_time": "2023-07-19T11:37:26.143998Z"
    }
   },
   "outputs": [],
   "source": [
    "# Once the simulation is successful, we parse the circuit and generate the json file\n",
    "# needed to execute the circuit on an IonQ ion-trap quantum computer.\n",
    "# (the parser does not recognize the Measurement gate, as in a real device Measurement are taken for granted.)\n",
    "\n",
    "IonQ_parser(c, shots, \"qpu.aria-1\", f\"qubo_trotterization_{prob}_{ins}_q\", gateset=\"native\")#, noise=\"aria-1\")"
   ]
  },
  {
   "cell_type": "code",
   "execution_count": null,
   "id": "59bd2109",
   "metadata": {
    "ExecuteTime": {
     "end_time": "2023-07-19T11:37:26.174945Z",
     "start_time": "2023-07-19T11:37:26.154151Z"
    }
   },
   "outputs": [],
   "source": [
    "# Build a Trotterized circuit for the adiabatic evolution of the M_sdp reformulation\n",
    "\n",
    "ham_sdp = hamils[0]\n",
    "qubo_sdp = Trotterize(nqubits, ham_sdp, order=1)\n",
    "c = qubo_sdp.build_trotter_circuit(T, dt)"
   ]
  },
  {
   "cell_type": "code",
   "execution_count": null,
   "id": "da3d9705",
   "metadata": {
    "ExecuteTime": {
     "end_time": "2023-07-19T11:37:26.202402Z",
     "start_time": "2023-07-19T11:37:26.176895Z"
    }
   },
   "outputs": [],
   "source": [
    "# Execution of the Trotterized circuit\n",
    "\n",
    "initial_state = np.zeros(2**nqubits)\n",
    "initial_state[0] = 1\n",
    "result_o = c(initial_state=initial_state).state()\n",
    "probs_o = c(initial_state=initial_state, nshots=shots)"
   ]
  },
  {
   "cell_type": "code",
   "execution_count": null,
   "id": "abd0ee8f",
   "metadata": {
    "ExecuteTime": {
     "end_time": "2023-07-19T11:37:26.207930Z",
     "start_time": "2023-07-19T11:37:26.204769Z"
    }
   },
   "outputs": [],
   "source": [
    "print(f'Most probable state {np.abs(result_o).argmax()} with p = {(np.abs(result_o)**2).max()} \\n')\n",
    "print(f'Solution of the problem: {sol}')\n",
    "print()\n",
    "print(c.summary())"
   ]
  },
  {
   "cell_type": "code",
   "execution_count": null,
   "id": "1df8a07b",
   "metadata": {
    "ExecuteTime": {
     "end_time": "2023-07-19T11:37:26.217511Z",
     "start_time": "2023-07-19T11:37:26.209761Z"
    }
   },
   "outputs": [],
   "source": [
    "# Once the simulation is successful, we parse the circuit and generate the json file\n",
    "# needed to execute the circuit on an IonQ ion-trap quantum computer.\n",
    "# (the parser does not recognize the Measurement gate, as in a real device Measurement are taken for granted.)\n",
    "\n",
    "IonQ_parser(c, shots, \"qpu.aria-1\", f\"qubo_trotterization_{prob}_{ins}_o\", gateset=\"native\")#, noise=\"aria-1\")"
   ]
  },
  {
   "cell_type": "code",
   "execution_count": null,
   "id": "d9c49c51",
   "metadata": {
    "ExecuteTime": {
     "end_time": "2023-07-19T11:37:26.226918Z",
     "start_time": "2023-07-19T11:37:26.219497Z"
    }
   },
   "outputs": [],
   "source": [
    "# Aggregate and process the simulation results\n",
    "\n",
    "pq = []\n",
    "for i in range(2**nqubits):\n",
    "    pq.append(probs_q.frequencies().get(format(i,f\"0{nqubits}b\"), 0)/shots)\n",
    "    \n",
    "po = []\n",
    "for i in range(2**nqubits):\n",
    "    po.append(probs_o.frequencies().get(format(i,f\"0{nqubits}b\"), 0)/shots)"
   ]
  },
  {
   "cell_type": "code",
   "execution_count": null,
   "id": "ff730096",
   "metadata": {
    "ExecuteTime": {
     "end_time": "2023-07-19T11:37:26.259471Z",
     "start_time": "2023-07-19T11:37:26.228451Z"
    },
    "scrolled": true
   },
   "outputs": [],
   "source": [
    "ar_q = []\n",
    "ar_q.append(get_ar(pq, m, M, ham_cons, nqubits, subspace=subspace, minimum=False, post=False))\n",
    "ar_q.append(get_ar(pq, m, M, ham_cons, nqubits, subspace=subspace, minimum=True, post=False))\n",
    "ar_q.append(get_ar(pq, m, M, ham_cons, nqubits, subspace=subspace, minimum=False, post=True))\n",
    "\n",
    "ar_o = []\n",
    "ar_o.append(get_ar(po, m, M, ham_cons, nqubits, subspace=subspace, minimum=False, post=False))\n",
    "ar_o.append(get_ar(po, m, M, ham_cons, nqubits, subspace=subspace, minimum=True, post=False))\n",
    "ar_o.append(get_ar(po, m, M, ham_cons, nqubits, subspace=subspace, minimum=False, post=True))"
   ]
  },
  {
   "cell_type": "code",
   "execution_count": null,
   "id": "f035774c",
   "metadata": {
    "ExecuteTime": {
     "end_time": "2023-07-19T11:37:26.264690Z",
     "start_time": "2023-07-19T11:37:26.261514Z"
    }
   },
   "outputs": [],
   "source": [
    "# Small tool to compute the success probability a circuit a given values for\n",
    "# 1-qubit and 2-qubit gate errors and Measurement errors.\n",
    "\n",
    "err1 = 0.9995\n",
    "err2 = 0.9865\n",
    "errM = 0.9950\n",
    "print(success_probability(c, err1, err2, errM))"
   ]
  },
  {
   "cell_type": "code",
   "execution_count": null,
   "id": "7b39542b",
   "metadata": {},
   "outputs": [],
   "source": []
  },
  {
   "cell_type": "code",
   "execution_count": null,
   "id": "d04a1e7d",
   "metadata": {
    "ExecuteTime": {
     "end_time": "2023-07-19T11:37:26.278291Z",
     "start_time": "2023-07-19T11:37:26.266738Z"
    }
   },
   "outputs": [],
   "source": [
    "# Here we parse the results extracted from an experimental run on IonQ's quantum computer\n",
    "\n",
    "folders = ['PO_sp500_part3_ra10_mult2']\n",
    "\n",
    "instances = [1, 3, 4, 5, 11, 12, 13, 16, 20, 21]\n",
    "\n",
    "qubits = [6]\n",
    "\n",
    "types = ['Msdp', 'Ml1']\n",
    "\n",
    "\n",
    "nqubits = qubits[0]\n",
    "prob = 0\n",
    "folder = 'data/'+folders[prob]\n",
    "\n",
    "x = symbols(\" \".join((f\"x{i}\" for i in range(0, nqubits))))\n",
    "dict_x = {str(xx):xx for xx in x}\n",
    "subs = substitutions(x, basis='x')\n",
    "files_cons = get_filenames(folder, 'constrained', nqubits)\n",
    "solutions = get_filenames(folder, 'solution', nqubits)\n",
    "\n",
    "sols = []\n",
    "sol_bins = []\n",
    "for ins in range(10):\n",
    "    sol, sol_bin = get_solution(solutions[instances[ins]], nqubits)\n",
    "    sols.append(sol)\n",
    "    sol_bins.append(sol_bin)"
   ]
  },
  {
   "cell_type": "code",
   "execution_count": null,
   "id": "d42c8bb9",
   "metadata": {
    "ExecuteTime": {
     "end_time": "2023-07-19T11:37:26.565183Z",
     "start_time": "2023-07-19T11:37:26.279860Z"
    }
   },
   "outputs": [],
   "source": [
    "# Generate the minimum and maximum value of the original cost function in order to \n",
    "# retrieve the approximation ratio.\n",
    "\n",
    "ms = []\n",
    "s_maxs = []\n",
    "Ms = []\n",
    "s_mins = []\n",
    "ham_cons_list = []\n",
    "subspace_list = []\n",
    "for ins in range(10):\n",
    "    ham_cons = get_sym_obj(files_cons[instances[ins]], dict_x)\n",
    "    ham_cons_list.append(ham_cons)\n",
    "    constraint = read_constraint(files_cons[instances[ins]], dict_x)\n",
    "    subspace = get_subspace(nqubits, x, constraint)\n",
    "    subspace_list.append(subspace)\n",
    "    m, s_max, M, s_min = get_max_energy(subspace, ham_cons, nqubits, x)\n",
    "    ms.append(m)\n",
    "    s_maxs.append(s_max)\n",
    "    Ms.append(M)\n",
    "    s_mins.append(s_min)"
   ]
  },
  {
   "cell_type": "code",
   "execution_count": null,
   "id": "d9cb1eab",
   "metadata": {
    "ExecuteTime": {
     "end_time": "2023-07-19T11:37:26.712594Z",
     "start_time": "2023-07-19T11:37:26.566809Z"
    }
   },
   "outputs": [],
   "source": [
    "# Read the json files with the results taken from the IonQ quantum computer execution.\n",
    "\n",
    "probs_o_list = []\n",
    "probs_q_list = []\n",
    "for ins in range(10):\n",
    "    with open(f'results/qubo_trotterization_0_{ins}_q.json', 'rb') as f:\n",
    "        data = json.load(f)\n",
    "    freqs = {}\n",
    "    for key in data.keys():\n",
    "        freqs[format(int(key),f\"0{nqubits}b\")[::-1]] = data[key]\n",
    "    probs = []\n",
    "    for i in range(2**nqubits):\n",
    "        probs.append(freqs.get(format(i,f\"0{nqubits}b\"), 0))\n",
    "    probs_q_list.append(probs)\n",
    "    with open(f'results/qubo_trotterization_0_{ins}_o.json', 'rb') as f:\n",
    "        data = json.load(f)\n",
    "    freqs = {}\n",
    "    for key in data.keys():\n",
    "        freqs[format(int(key),f\"0{nqubits}b\")[::-1]] = data[key]\n",
    "    probs = []\n",
    "    for i in range(2**nqubits):\n",
    "        probs.append(freqs.get(format(i,f\"0{nqubits}b\"), 0))\n",
    "    probs_o_list.append(probs)\n",
    "    \n",
    "ar_o_list = []\n",
    "ar_q_list = []\n",
    "for ins in range(10):\n",
    "    ar_o = []\n",
    "    ar_o.append(get_ar(probs_o_list[ins], ms[ins], Ms[ins], ham_cons_list[ins], nqubits, subspace=subspace_list[ins], minimum=False, post=False))\n",
    "    ar_o.append(get_ar(probs_o_list[ins], ms[ins], Ms[ins], ham_cons_list[ins], nqubits, subspace=subspace_list[ins], minimum=True, post=False))\n",
    "    ar_o.append(get_ar(probs_o_list[ins], ms[ins], Ms[ins], ham_cons_list[ins], nqubits, subspace=subspace_list[ins], minimum=False, post=True))\n",
    "    ar_o_list.append(ar_o)\n",
    "    ar_q = []\n",
    "    ar_q.append(get_ar(probs_q_list[ins], ms[ins], Ms[ins], ham_cons_list[ins], nqubits, subspace=subspace_list[ins], minimum=False, post=False))\n",
    "    ar_q.append(get_ar(probs_q_list[ins], ms[ins], Ms[ins], ham_cons_list[ins], nqubits, subspace=subspace_list[ins], minimum=True, post=False))\n",
    "    ar_q.append(get_ar(probs_q_list[ins], ms[ins], Ms[ins], ham_cons_list[ins], nqubits, subspace=subspace_list[ins], minimum=False, post=True))\n",
    "    ar_q_list.append(ar_q)\n",
    "    \n",
    "psol_o_list = []\n",
    "psol_q_list = []\n",
    "for ins in range(10):\n",
    "    psol_o_list.append(probs_o_list[ins][sols[ins]])\n",
    "    psol_q_list.append(probs_q_list[ins][sols[ins]])"
   ]
  },
  {
   "cell_type": "code",
   "execution_count": null,
   "id": "62f31a0e",
   "metadata": {
    "ExecuteTime": {
     "end_time": "2023-07-19T11:37:26.716898Z",
     "start_time": "2023-07-19T11:37:26.714230Z"
    }
   },
   "outputs": [],
   "source": [
    "# Code for the experimental plots shown in Fig. (3) in the original publication."
   ]
  },
  {
   "cell_type": "code",
   "execution_count": null,
   "id": "771e9ebc",
   "metadata": {
    "ExecuteTime": {
     "end_time": "2023-07-19T11:37:26.721977Z",
     "start_time": "2023-07-19T11:37:26.718846Z"
    }
   },
   "outputs": [],
   "source": [
    "Do = [[float(i) for i in np.array(ar_o_list)[:,2]]]#, [float(i) for i in np.array(ar_o_list)[:,2]]]\n",
    "Dq = [[float(i) for i in np.array(ar_q_list)[:,2]]]#, [float(i) for i in np.array(ar_q_list)[:,2]]]\n",
    "xx = [1]"
   ]
  },
  {
   "cell_type": "code",
   "execution_count": null,
   "id": "b3dc09a7",
   "metadata": {
    "ExecuteTime": {
     "end_time": "2023-07-19T11:37:26.975474Z",
     "start_time": "2023-07-19T11:37:26.723569Z"
    }
   },
   "outputs": [],
   "source": [
    "plt.rcParams.update({'font.size':14})\n",
    "plt.rcParams['axes.linewidth'] = 1.5\n",
    "plt.rcParams['mathtext.fontset'] = 'stix'\n",
    "plt.rcParams['font.family'] = 'STIXGeneral'\n",
    "\n",
    "fig, ax = plt.subplots(figsize=(2.7,3.5), constrained_layout=True)\n",
    "ax.grid()\n",
    "\n",
    "ax.eventplot(Do, orientation=\"vertical\", lineoffsets=xx, linewidth=2, linelength=0.75, colors='C0', label='$M_{SDP}$')\n",
    "ax.eventplot(Dq, orientation=\"vertical\", lineoffsets=xx, linewidth=2, linelength=0.75, colors='C1', label= '$M_{\\ell_1}$')\n",
    "\n",
    "ax.set_ylabel(r'Approximation ratio', size=20)\n",
    "\n",
    "ax.set(xlim=(0.5, 1.5), xticks=np.arange(1, 2, 1),\n",
    "       ylim=(0, 1), yticks=np.arange(0, 1.1, 0.1))\n",
    "ax.set_xticklabels(['Portfolio Optimization'])\n",
    "plt.legend(loc='lower right')\n",
    "plt.show()\n",
    "#fig.savefig(f'ar_comparison.pdf', dpi=300, bbox_inches='tight')"
   ]
  },
  {
   "cell_type": "code",
   "execution_count": null,
   "id": "14d1fc17",
   "metadata": {
    "ExecuteTime": {
     "end_time": "2023-07-19T11:37:26.989275Z",
     "start_time": "2023-07-19T11:37:26.985909Z"
    }
   },
   "outputs": [],
   "source": [
    "x_range = np.arange(2**nqubits)"
   ]
  },
  {
   "cell_type": "code",
   "execution_count": null,
   "id": "cef47d30",
   "metadata": {
    "ExecuteTime": {
     "end_time": "2023-07-19T11:37:27.642194Z",
     "start_time": "2023-07-19T11:37:26.991769Z"
    }
   },
   "outputs": [],
   "source": [
    "plt.rcParams.update({'font.size':14})\n",
    "plt.rcParams['axes.linewidth'] = 1.5\n",
    "plt.rcParams['mathtext.fontset'] = 'stix'\n",
    "plt.rcParams['font.family'] = 'STIXGeneral'\n",
    "\n",
    "fig = plt.figure(figsize=(6,3.5), constrained_layout=True)\n",
    "plt.grid()\n",
    "\n",
    "plt.bar(x_range, probs_o_list[9], width=.8, align='center', label=r'$M_{SDP}$')\n",
    "plt.bar(x_range, probs_q_list[9], width=.8, align='center', label=r'$M_{\\ell_1}$')\n",
    "\n",
    "plt.xlim([-1, 64])\n",
    "plt.axvline(x=56, color='r', linestyle='-', label='Solution')\n",
    "plt.legend(fontsize=12)\n",
    "plt.xlabel(r'State', fontsize=18)\n",
    "plt.ylabel(r'Probability', fontsize=18)\n",
    "plt.title(r'Result of Trotterization of Adiabatic Evolution', fontsize=16)\n",
    "\n",
    "#fig.savefig(f'results_ionq_compare.pdf', dpi=400, bbox_inches='tight')"
   ]
  },
  {
   "cell_type": "code",
   "execution_count": null,
   "id": "ccb0a39c",
   "metadata": {},
   "outputs": [],
   "source": []
  }
 ],
 "metadata": {
  "kernelspec": {
   "display_name": "Python 3 (ipykernel)",
   "language": "python",
   "name": "python3"
  },
  "language_info": {
   "codemirror_mode": {
    "name": "ipython",
    "version": 3
   },
   "file_extension": ".py",
   "mimetype": "text/x-python",
   "name": "python",
   "nbconvert_exporter": "python",
   "pygments_lexer": "ipython3",
   "version": "3.9.10"
  },
  "toc": {
   "base_numbering": 1,
   "nav_menu": {},
   "number_sections": true,
   "sideBar": true,
   "skip_h1_title": false,
   "title_cell": "Table of Contents",
   "title_sidebar": "Contents",
   "toc_cell": false,
   "toc_position": {},
   "toc_section_display": true,
   "toc_window_display": false
  },
  "varInspector": {
   "cols": {
    "lenName": 16,
    "lenType": 16,
    "lenVar": 40
   },
   "kernels_config": {
    "python": {
     "delete_cmd_postfix": "",
     "delete_cmd_prefix": "del ",
     "library": "var_list.py",
     "varRefreshCmd": "print(var_dic_list())"
    },
    "r": {
     "delete_cmd_postfix": ") ",
     "delete_cmd_prefix": "rm(",
     "library": "var_list.r",
     "varRefreshCmd": "cat(var_dic_list()) "
    }
   },
   "types_to_exclude": [
    "module",
    "function",
    "builtin_function_or_method",
    "instance",
    "_Feature"
   ],
   "window_display": false
  }
 },
 "nbformat": 4,
 "nbformat_minor": 5
}
